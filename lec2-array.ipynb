{
 "cells": [
  {
   "cell_type": "code",
   "execution_count": 11,
   "id": "500a8931-b4e9-4cb6-ad62-8e6a1db71bd7",
   "metadata": {},
   "outputs": [
    {
     "data": {
      "text/plain": [
       "3"
      ]
     },
     "execution_count": 11,
     "metadata": {},
     "output_type": "execute_result"
    }
   ],
   "source": [
    "import numpy as np\n",
    "np.absolute(-3)"
   ]
  },
  {
   "cell_type": "code",
   "execution_count": 59,
   "id": "8fbbc62a-e15e-4bed-971c-3fdb222727c3",
   "metadata": {},
   "outputs": [
    {
     "name": "stdout",
     "output_type": "stream",
     "text": [
      "[1 2 3]\n",
      "[5 7 9]\n",
      "[5 7 9]\n",
      "[[1 2 3]\n",
      " [4 5 6]]\n",
      "<class 'numpy.ndarray'>\n",
      "[ 0.          3.33333333  6.66666667 10.        ]\n"
     ]
    }
   ],
   "source": [
    "first_np_arr=np.array([1.11,2.987654,3],dtype=int)\n",
    "second=[4,5,6]\n",
    "print(first_np_arr)\n",
    "print(first_np_arr+second)\n",
    "third=first_np_arr+second\n",
    "print(third)\n",
    "matrix_arr=np.array([[1,2,3],[4,5,6]])\n",
    "print(matrix_arr)\n",
    "print(type(matrix_arr))\n",
    "line_space=np.linspace(0,10,4)\n",
    "print(line_space)"
   ]
  },
  {
   "cell_type": "code",
   "execution_count": 105,
   "id": "210807c7-a602-42c2-8b7a-95cf7ec591e3",
   "metadata": {},
   "outputs": [
    {
     "name": "stdout",
     "output_type": "stream",
     "text": [
      "<class 'numpy.ndarray'>\n",
      "[3.3861934  1.38774175]\n",
      "[0.71 0.72]\n",
      "[5 8]\n"
     ]
    }
   ],
   "source": [
    "a=np.random.rand(2)*9\n",
    "print(type(a))\n",
    "print(a)\n",
    "b=np.round(np.random.rand(2),2)\n",
    "print(b)\n",
    "c=np.random.randint(0,10,2)\n",
    "print(c)"
   ]
  },
  {
   "cell_type": "code",
   "execution_count": 107,
   "id": "7f7bc074-a826-485e-b73f-1f0f8a6d78b1",
   "metadata": {},
   "outputs": [
    {
     "data": {
      "text/plain": [
       "array([[51, 92, 14, 71, 60],\n",
       "       [20, 82, 86, 74, 74]])"
      ]
     },
     "execution_count": 107,
     "metadata": {},
     "output_type": "execute_result"
    }
   ],
   "source": [
    "np.random.seed(42)\n",
    "np.random.randint(0,101,(2,5))"
   ]
  }
 ],
 "metadata": {
  "kernelspec": {
   "display_name": "Python [conda env:base] *",
   "language": "python",
   "name": "conda-base-py"
  },
  "language_info": {
   "codemirror_mode": {
    "name": "ipython",
    "version": 3
   },
   "file_extension": ".py",
   "mimetype": "text/x-python",
   "name": "python",
   "nbconvert_exporter": "python",
   "pygments_lexer": "ipython3",
   "version": "3.12.7"
  }
 },
 "nbformat": 4,
 "nbformat_minor": 5
}
