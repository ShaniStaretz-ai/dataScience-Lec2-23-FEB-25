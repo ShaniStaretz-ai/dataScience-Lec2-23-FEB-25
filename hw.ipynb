{
 "cells": [
  {
   "cell_type": "code",
   "execution_count": 6,
   "id": "fe790563-5a1d-47be-8cc4-567968501472",
   "metadata": {},
   "outputs": [
    {
     "name": "stdout",
     "output_type": "stream",
     "text": [
      "1-10: [ 1  2  3  4  5  6  7  8  9 10]\n",
      "0.5-5: [0.5  0.75 1.   1.25 1.5  1.75 2.   2.25 2.5  2.75 3.   3.25 3.5  3.75\n",
      " 4.   4.25 4.5  4.75 5.   5.25 5.5  5.75]\n"
     ]
    }
   ],
   "source": [
    "import numpy as np\n",
    "#1. arange\n",
    "a=np.arange(1,10+1)\n",
    "b=np.arange(0.5,5+1,0.25)\n",
    "print(\"1-10:\",a)\n",
    "print(\"0.5-5:\",b)"
   ]
  },
  {
   "cell_type": "code",
   "execution_count": 10,
   "id": "110ea9a0-9ca9-4a6b-8a18-244da05697e5",
   "metadata": {},
   "outputs": [
    {
     "name": "stdout",
     "output_type": "stream",
     "text": [
      "10 zeros: [0 0 0 0 0 0 0 0 0 0]\n",
      "matrix 3x4, 12 zeros: [[0 0 0 0]\n",
      " [0 0 0 0]\n",
      " [0 0 0 0]]\n"
     ]
    }
   ],
   "source": [
    "# 2.zeros\n",
    "a=np.zeros(10,dtype=int)\n",
    "b=np.zeros((3,4),dtype=int)\n",
    "print(\"10 zeros:\",a)\n",
    "print(\"matrix 3x4, 12 zeros:\",b)"
   ]
  },
  {
   "cell_type": "code",
   "execution_count": 14,
   "id": "df429930-158f-4cd5-9bc1-149f3d27c65f",
   "metadata": {},
   "outputs": [
    {
     "name": "stdout",
     "output_type": "stream",
     "text": [
      "2-12: [ 2  4  7  9 12]\n",
      "3-9: [3 5 7 9]\n"
     ]
    }
   ],
   "source": [
    "#3.linespace\n",
    "a=np.linspace(2,12,5,dtype=int)\n",
    "b=np.linspace(3,9,4,dtype=int)\n",
    "print(\"2-12:\",a)\n",
    "print(\"3-9:\",b)\n"
   ]
  },
  {
   "cell_type": "code",
   "execution_count": 40,
   "id": "fe59f074-df83-4c53-afb8-6afe1a197c81",
   "metadata": {},
   "outputs": [
    {
     "name": "stdout",
     "output_type": "stream",
     "text": [
      "matrix 4x2 (0-.99999): [[0.82346066 0.11898955]\n",
      " [0.488693   0.88704883]\n",
      " [0.60442805 0.56251028]\n",
      " [0.12563725 0.41020409]]\n",
      "matrix 3x3 (10,20): [[10 18 10]\n",
      " [11 15 17]\n",
      " [17 17 11]]\n",
      "reshape matrix 3x4 (0,0.99999): [0.82346066 0.11898955 0.488693   0.88704883 0.60442805 0.56251028\n",
      " 0.12563725 0.41020409]\n"
     ]
    }
   ],
   "source": [
    "#4.random\n",
    "a=np.random.rand(4,2)\n",
    "b=np.random.randint(10,20,(3,3))\n",
    "c=np.reshape(a,8)# must be the same legth of the origin array\n",
    "print(\"matrix 4x2 (0-.99999):\",a)\n",
    "print(\"matrix 3x3 (10,20):\",b)\n",
    "print(\"reshape matrix 3x4 (0,0.99999):\",c)"
   ]
  },
  {
   "cell_type": "code",
   "execution_count": null,
   "id": "4bdf5107-45d7-4018-9157-9b6fc1454194",
   "metadata": {},
   "outputs": [],
   "source": [
    "# using seed function, allow th control the initial random function\n",
    "# will to receive the same results as the previous executions\n",
    "# used for simulations and testing when using random functions."
   ]
  }
 ],
 "metadata": {
  "kernelspec": {
   "display_name": "Python [conda env:base] *",
   "language": "python",
   "name": "conda-base-py"
  },
  "language_info": {
   "codemirror_mode": {
    "name": "ipython",
    "version": 3
   },
   "file_extension": ".py",
   "mimetype": "text/x-python",
   "name": "python",
   "nbconvert_exporter": "python",
   "pygments_lexer": "ipython3",
   "version": "3.12.7"
  }
 },
 "nbformat": 4,
 "nbformat_minor": 5
}
